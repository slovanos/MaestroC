{
 "cells": [
  {
   "cell_type": "code",
   "execution_count": 1,
   "metadata": {
    "execution": {
     "iopub.execute_input": "2020-09-16T07:55:50.604291Z",
     "iopub.status.busy": "2020-09-16T07:55:50.603489Z",
     "iopub.status.idle": "2020-09-16T07:55:56.599884Z",
     "shell.execute_reply": "2020-09-16T07:55:56.599129Z"
    },
    "papermill": {
     "duration": 6.014288,
     "end_time": "2020-09-16T07:55:56.600016",
     "exception": false,
     "start_time": "2020-09-16T07:55:50.585728",
     "status": "completed"
    },
    "tags": []
   },
   "outputs": [],
   "source": [
    "import numpy as np # Algebra\n",
    "import matplotlib.pyplot as plt # Plottear\n",
    "%matplotlib inline\n",
    "# para poder plottear acá. Particular de las Jupyter Notebooks\n",
    "\n",
    "# Neural Networks\n",
    "from keras.models import Sequential\n",
    "from keras.layers import Dense\n",
    "from keras import optimizers\n",
    "import keras.backend as K # Para obtener info del modelo"
   ]
  },
  {
   "cell_type": "code",
   "execution_count": 2,
   "metadata": {
    "execution": {
     "iopub.execute_input": "2020-09-16T07:55:56.624917Z",
     "iopub.status.busy": "2020-09-16T07:55:56.623784Z",
     "iopub.status.idle": "2020-09-16T07:55:56.631939Z",
     "shell.execute_reply": "2020-09-16T07:55:56.631143Z"
    },
    "papermill": {
     "duration": 0.025356,
     "end_time": "2020-09-16T07:55:56.632098",
     "exception": false,
     "start_time": "2020-09-16T07:55:56.606742",
     "status": "completed"
    },
    "tags": []
   },
   "outputs": [
    {
     "name": "stdout",
     "output_type": "stream",
     "text": [
      "Shape: (1000, 30)\n",
      "Max value:  0.9999929695198475 Min value: 6.644418630574744e-05\n",
      "Train Data Shape: Input: (800, 10) Output: (800, 20)\n",
      "Test Data Shape: Input: (200, 10) Output: (200, 20)\n"
     ]
    }
   ],
   "source": [
    "# ################  Data ###########################################\n",
    "\n",
    "m = 1000 # #muestras\n",
    "ni = 10 # #features de entrada\n",
    "no = 20 # #features de salida\n",
    "\n",
    "data = np.random.rand(m,ni+no) # generando algo\n",
    "print('Shape:', data.shape)\n",
    "print('Max value: ', data.max(), 'Min value:', data.min())\n",
    "\n",
    "# Data Set split\n",
    "# Tb hay librerías que lo hacen mas elegante (sklearn.model_selection.train_test_split)\n",
    "\n",
    "trainPortion = 0.8\n",
    "testPortion = 1-trainPortion\n",
    "\n",
    "XTrain = data[:int(trainPortion*m),:ni]\n",
    "YTrain = data[:int(trainPortion*m),ni:]\n",
    "\n",
    "XTest = data[int(trainPortion*m):,:ni]\n",
    "YTest = data[int(trainPortion*m):,ni:]\n",
    "\n",
    "print('Train Data Shape: Input:', XTrain.shape, 'Output:', YTrain.shape)\n",
    "print('Test Data Shape: Input:', XTest.shape, 'Output:', YTest.shape)\n"
   ]
  },
  {
   "cell_type": "code",
   "execution_count": 3,
   "metadata": {
    "execution": {
     "iopub.execute_input": "2020-09-16T07:55:56.655294Z",
     "iopub.status.busy": "2020-09-16T07:55:56.654264Z",
     "iopub.status.idle": "2020-09-16T07:55:56.803367Z",
     "shell.execute_reply": "2020-09-16T07:55:56.802721Z"
    },
    "papermill": {
     "duration": 0.163923,
     "end_time": "2020-09-16T07:55:56.803496",
     "exception": false,
     "start_time": "2020-09-16T07:55:56.639573",
     "status": "completed"
    },
    "tags": []
   },
   "outputs": [
    {
     "name": "stdout",
     "output_type": "stream",
     "text": [
      "Model: \"sequential\"\n",
      "_________________________________________________________________\n",
      "Layer (type)                 Output Shape              Param #   \n",
      "=================================================================\n",
      "dense (Dense)                (None, 20)                220       \n",
      "_________________________________________________________________\n",
      "dense_1 (Dense)              (None, 20)                420       \n",
      "_________________________________________________________________\n",
      "dense_2 (Dense)              (None, 20)                420       \n",
      "=================================================================\n",
      "Total params: 1,060\n",
      "Trainable params: 1,060\n",
      "Non-trainable params: 0\n",
      "_________________________________________________________________\n",
      "None\n"
     ]
    }
   ],
   "source": [
    "# ############### NN Model Definition ################################\n",
    "# (una de las formas)\n",
    "\n",
    "# Dense Fully connected NNs\n",
    "hiddenNeurons1 = 20\n",
    "hiddenNeurons2 = 20\n",
    "\n",
    "# Modelo denso (fully connected). Dos hidden layers\n",
    "# (Y definicion de la entrada junto con la primer hidden layer)\n",
    "model = Sequential()\n",
    "model.add(Dense(hiddenNeurons1, activation='sigmoid', input_shape=(ni,)))\n",
    "model.add(Dense(hiddenNeurons2, activation='relu'))\n",
    "model.add(Dense(no, activation='linear'))\n",
    "\n",
    "print(model.summary())\n",
    "\n",
    "# Compile Model\n",
    "# Acá se define el optimizer, cost function, métricas, learning rate,etc.\n",
    "model.compile(optimizer='adam', loss='mse', metrics=['acc'])\n"
   ]
  },
  {
   "cell_type": "code",
   "execution_count": 4,
   "metadata": {
    "execution": {
     "iopub.execute_input": "2020-09-16T07:55:56.828402Z",
     "iopub.status.busy": "2020-09-16T07:55:56.827583Z",
     "iopub.status.idle": "2020-09-16T07:55:58.430280Z",
     "shell.execute_reply": "2020-09-16T07:55:58.430896Z"
    },
    "papermill": {
     "duration": 1.620066,
     "end_time": "2020-09-16T07:55:58.431070",
     "exception": false,
     "start_time": "2020-09-16T07:55:56.811004",
     "status": "completed"
    },
    "tags": []
   },
   "outputs": [
    {
     "name": "stdout",
     "output_type": "stream",
     "text": [
      "Epoch 1/20\n",
      "25/25 [==============================] - 0s 1ms/step - loss: 0.2921 - acc: 0.0437\n",
      "Epoch 2/20\n",
      "25/25 [==============================] - 0s 977us/step - loss: 0.1938 - acc: 0.0475\n",
      "Epoch 3/20\n",
      "25/25 [==============================] - 0s 1ms/step - loss: 0.1453 - acc: 0.0538\n",
      "Epoch 4/20\n",
      "25/25 [==============================] - 0s 958us/step - loss: 0.1190 - acc: 0.0538\n",
      "Epoch 5/20\n",
      "25/25 [==============================] - 0s 922us/step - loss: 0.1036 - acc: 0.0613\n",
      "Epoch 6/20\n",
      "25/25 [==============================] - 0s 935us/step - loss: 0.0943 - acc: 0.0538\n",
      "Epoch 7/20\n",
      "25/25 [==============================] - 0s 963us/step - loss: 0.0890 - acc: 0.0500\n",
      "Epoch 8/20\n",
      "25/25 [==============================] - 0s 957us/step - loss: 0.0863 - acc: 0.0500\n",
      "Epoch 9/20\n",
      "25/25 [==============================] - 0s 998us/step - loss: 0.0850 - acc: 0.0550\n",
      "Epoch 10/20\n",
      "25/25 [==============================] - 0s 936us/step - loss: 0.0846 - acc: 0.0538\n",
      "Epoch 11/20\n",
      "25/25 [==============================] - 0s 966us/step - loss: 0.0844 - acc: 0.0575\n",
      "Epoch 12/20\n",
      "25/25 [==============================] - 0s 1ms/step - loss: 0.0843 - acc: 0.0625\n",
      "Epoch 13/20\n",
      "25/25 [==============================] - 0s 1ms/step - loss: 0.0841 - acc: 0.0587\n",
      "Epoch 14/20\n",
      "25/25 [==============================] - 0s 961us/step - loss: 0.0842 - acc: 0.0575\n",
      "Epoch 15/20\n",
      "25/25 [==============================] - 0s 995us/step - loss: 0.0841 - acc: 0.0575\n",
      "Epoch 16/20\n",
      "25/25 [==============================] - 0s 982us/step - loss: 0.0842 - acc: 0.0637\n",
      "Epoch 17/20\n",
      "25/25 [==============================] - 0s 1ms/step - loss: 0.0841 - acc: 0.0587\n",
      "Epoch 18/20\n",
      "25/25 [==============================] - 0s 913us/step - loss: 0.0840 - acc: 0.0613\n",
      "Epoch 19/20\n",
      "25/25 [==============================] - 0s 969us/step - loss: 0.0841 - acc: 0.0587\n",
      "Epoch 20/20\n",
      "25/25 [==============================] - 0s 1ms/step - loss: 0.0839 - acc: 0.0662\n",
      "\n",
      "Obvio que no va a aprender un joraca si las entradas y salidas son random no?\n"
     ]
    },
    {
     "data": {
      "image/png": "[encoded data removed]",
      "text/plain": [
       "<Figure size 432x288 with 1 Axes>"
      ]
     },
     "metadata": {
      "needs_background": "light"
     },
     "output_type": "display_data"
    }
   ],
   "source": [
    "# ############### Train ##############################################\n",
    "\n",
    "epochs = 20 # 400 # número de \"pasadas\" por todo el training data\n",
    "batchSize = 32 # cuántas muestras toma para cada iteración\n",
    "\n",
    "history = model.fit(XTrain, YTrain, epochs=epochs, batch_size=batchSize, verbose=1)\n",
    "\n",
    "# Plot history\n",
    "fig1, ax1 = plt.subplots()\n",
    "ax1.plot(history.history['loss'], label = 'loss')\n",
    "ax1.plot(history.history['acc'], label = 'accuracy')\n",
    "plt.title('Trainig')\n",
    "plt.xlabel('Epoch')\n",
    "ax1.legend(shadow=True, framealpha =0.7, loc = 2)\n",
    "ax1.grid(True)\n",
    "\n",
    "print('\\nObvio que no va a aprender un joraca si las entradas y salidas son random no?')"
   ]
  },
  {
   "cell_type": "code",
   "execution_count": 5,
   "metadata": {
    "execution": {
     "iopub.execute_input": "2020-09-16T07:55:58.495386Z",
     "iopub.status.busy": "2020-09-16T07:55:58.494342Z",
     "iopub.status.idle": "2020-09-16T07:55:58.799891Z",
     "shell.execute_reply": "2020-09-16T07:55:58.799154Z"
    },
    "papermill": {
     "duration": 0.340682,
     "end_time": "2020-09-16T07:55:58.800014",
     "exception": false,
     "start_time": "2020-09-16T07:55:58.459332",
     "status": "completed"
    },
    "tags": []
   },
   "outputs": [
    {
     "name": "stdout",
     "output_type": "stream",
     "text": [
      "25/25 [==============================] - 0s 861us/step - loss: 0.0838 - acc: 0.0637\n",
      "Train Loss: 0.08379752188920975 Accuracy: 0.0637499988079071\n",
      "7/7 [==============================] - 0s 1ms/step - loss: 0.0841 - acc: 0.0450\n",
      "Test Loss: 0.08413594961166382 Accuracy: 0.04500000178813934\n"
     ]
    }
   ],
   "source": [
    "# ################ Evaluate ###########################################\n",
    "    \n",
    "# Train Data Loss (Que tienen q coincidir con los últimos valore de la curva)\n",
    "trainLoss, trainAcc = model.evaluate(XTrain,YTrain, verbose=1)\n",
    "print('Train Loss:', trainLoss, 'Accuracy:', trainAcc)\n",
    "\n",
    "# Test Data Loss\n",
    "testLoss, testAcc = model.evaluate(XTest,YTest, verbose=1)\n",
    "print('Test Loss:', testLoss, 'Accuracy:', testAcc)"
   ]
  },
  {
   "cell_type": "code",
   "execution_count": 6,
   "metadata": {
    "execution": {
     "iopub.execute_input": "2020-09-16T07:55:58.865617Z",
     "iopub.status.busy": "2020-09-16T07:55:58.864548Z",
     "iopub.status.idle": "2020-09-16T07:55:58.868116Z",
     "shell.execute_reply": "2020-09-16T07:55:58.867371Z"
    },
    "papermill": {
     "duration": 0.038217,
     "end_time": "2020-09-16T07:55:58.868238",
     "exception": false,
     "start_time": "2020-09-16T07:55:58.830021",
     "status": "completed"
    },
    "tags": []
   },
   "outputs": [],
   "source": [
    "# ############### Get Model Data ######################################\n",
    "# from mytools.mykerastools import getKerasModelData\n",
    "# modelData = getKerasModelData(model)\n",
    "# print(model.Data.keys())"
   ]
  }
 ],
 "metadata": {
  "kernelspec": {
   "display_name": "Python 3",
   "language": "python",
   "name": "python3"
  },
  "language_info": {
   "codemirror_mode": {
    "name": "ipython",
    "version": 3
   },
   "file_extension": ".py",
   "mimetype": "text/x-python",
   "name": "python",
   "nbconvert_exporter": "python",
   "pygments_lexer": "ipython3",
   "version": "3.7.6"
  },
  "papermill": {
   "duration": 13.063581,
   "end_time": "2020-09-16T07:55:59.007985",
   "environment_variables": {},
   "exception": null,
   "input_path": "__notebook__.ipynb",
   "output_path": "__notebook__.ipynb",
   "parameters": {},
   "start_time": "2020-09-16T07:55:45.944404",
   "version": "2.1.0"
  }
 },
 "nbformat": 4,
 "nbformat_minor": 4
}
